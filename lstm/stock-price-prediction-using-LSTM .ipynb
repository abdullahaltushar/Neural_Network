{
 "cells": [
  {
   "cell_type": "code",
   "execution_count": 1,
   "metadata": {},
   "outputs": [],
   "source": [
    "#import libery\n",
    "import numpy as np \n",
    "import pandas as pd \n",
    "import matplotlib.pyplot as plt \n",
    "from sklearn.preprocessing import MinMaxScaler\n",
    "from keras.models import Sequential\n",
    "from keras.layers import Dense,LSTM,Dropout"
   ]
  },
  {
   "cell_type": "code",
   "execution_count": 2,
   "metadata": {},
   "outputs": [],
   "source": [
    "#load data\n",
    "data = pd.read_csv('trainData.csv')"
   ]
  },
  {
   "cell_type": "code",
   "execution_count": 3,
   "metadata": {},
   "outputs": [
    {
     "data": {
      "text/plain": [
       "(1258, 6)"
      ]
     },
     "execution_count": 3,
     "metadata": {},
     "output_type": "execute_result"
    }
   ],
   "source": [
    "#row 1258 and column 6\n",
    "data.shape"
   ]
  },
  {
   "cell_type": "code",
   "execution_count": 4,
   "metadata": {},
   "outputs": [
    {
     "name": "stdout",
     "output_type": "stream",
     "text": [
      "<class 'pandas.core.frame.DataFrame'>\n",
      "RangeIndex: 1258 entries, 0 to 1257\n",
      "Data columns (total 6 columns):\n",
      " #   Column  Non-Null Count  Dtype  \n",
      "---  ------  --------------  -----  \n",
      " 0   Date    1258 non-null   object \n",
      " 1   Open    1258 non-null   float64\n",
      " 2   High    1258 non-null   float64\n",
      " 3   Low     1258 non-null   float64\n",
      " 4   Close   1258 non-null   object \n",
      " 5   Volume  1258 non-null   object \n",
      "dtypes: float64(3), object(3)\n",
      "memory usage: 59.1+ KB\n"
     ]
    }
   ],
   "source": [
    "data.info()"
   ]
  },
  {
   "cell_type": "code",
   "execution_count": 5,
   "metadata": {},
   "outputs": [
    {
     "data": {
      "text/html": [
       "<div>\n",
       "<style scoped>\n",
       "    .dataframe tbody tr th:only-of-type {\n",
       "        vertical-align: middle;\n",
       "    }\n",
       "\n",
       "    .dataframe tbody tr th {\n",
       "        vertical-align: top;\n",
       "    }\n",
       "\n",
       "    .dataframe thead th {\n",
       "        text-align: right;\n",
       "    }\n",
       "</style>\n",
       "<table border=\"1\" class=\"dataframe\">\n",
       "  <thead>\n",
       "    <tr style=\"text-align: right;\">\n",
       "      <th></th>\n",
       "      <th>Date</th>\n",
       "      <th>Open</th>\n",
       "      <th>High</th>\n",
       "      <th>Low</th>\n",
       "      <th>Close</th>\n",
       "      <th>Volume</th>\n",
       "    </tr>\n",
       "  </thead>\n",
       "  <tbody>\n",
       "    <tr>\n",
       "      <th>0</th>\n",
       "      <td>1/3/2012</td>\n",
       "      <td>325.25</td>\n",
       "      <td>332.83</td>\n",
       "      <td>324.97</td>\n",
       "      <td>663.59</td>\n",
       "      <td>7,380,500</td>\n",
       "    </tr>\n",
       "    <tr>\n",
       "      <th>1</th>\n",
       "      <td>1/4/2012</td>\n",
       "      <td>331.27</td>\n",
       "      <td>333.87</td>\n",
       "      <td>329.08</td>\n",
       "      <td>666.45</td>\n",
       "      <td>5,749,400</td>\n",
       "    </tr>\n",
       "    <tr>\n",
       "      <th>2</th>\n",
       "      <td>1/5/2012</td>\n",
       "      <td>329.83</td>\n",
       "      <td>330.75</td>\n",
       "      <td>326.89</td>\n",
       "      <td>657.21</td>\n",
       "      <td>6,590,300</td>\n",
       "    </tr>\n",
       "    <tr>\n",
       "      <th>3</th>\n",
       "      <td>1/6/2012</td>\n",
       "      <td>328.34</td>\n",
       "      <td>328.77</td>\n",
       "      <td>323.68</td>\n",
       "      <td>648.24</td>\n",
       "      <td>5,405,900</td>\n",
       "    </tr>\n",
       "    <tr>\n",
       "      <th>4</th>\n",
       "      <td>1/9/2012</td>\n",
       "      <td>322.04</td>\n",
       "      <td>322.29</td>\n",
       "      <td>309.46</td>\n",
       "      <td>620.76</td>\n",
       "      <td>11,688,800</td>\n",
       "    </tr>\n",
       "  </tbody>\n",
       "</table>\n",
       "</div>"
      ],
      "text/plain": [
       "       Date    Open    High     Low   Close      Volume\n",
       "0  1/3/2012  325.25  332.83  324.97  663.59   7,380,500\n",
       "1  1/4/2012  331.27  333.87  329.08  666.45   5,749,400\n",
       "2  1/5/2012  329.83  330.75  326.89  657.21   6,590,300\n",
       "3  1/6/2012  328.34  328.77  323.68  648.24   5,405,900\n",
       "4  1/9/2012  322.04  322.29  309.46  620.76  11,688,800"
      ]
     },
     "execution_count": 5,
     "metadata": {},
     "output_type": "execute_result"
    }
   ],
   "source": [
    "data.head()"
   ]
  },
  {
   "cell_type": "code",
   "execution_count": 6,
   "metadata": {},
   "outputs": [],
   "source": [
    "#convert numerical data\n",
    "data[\"Close\"]=pd.to_numeric(data.Close,errors='coerce')"
   ]
  },
  {
   "cell_type": "code",
   "execution_count": 7,
   "metadata": {},
   "outputs": [],
   "source": [
    "#drop null value\n",
    "data = data.dropna() "
   ]
  },
  {
   "cell_type": "code",
   "execution_count": 8,
   "metadata": {},
   "outputs": [
    {
     "data": {
      "text/plain": [
       "array([[663.59],\n",
       "       [666.45],\n",
       "       [657.21],\n",
       "       ...,\n",
       "       [785.05],\n",
       "       [782.79],\n",
       "       [771.82]])"
      ]
     },
     "execution_count": 8,
     "metadata": {},
     "output_type": "execute_result"
    }
   ],
   "source": [
    "#selecting only the closing prices for training\n",
    "trainData = data.iloc[:,4:5].values\n",
    "trainData"
   ]
  },
  {
   "cell_type": "code",
   "execution_count": 9,
   "metadata": {},
   "outputs": [
    {
     "data": {
      "text/plain": [
       "(1149, 1)"
      ]
     },
     "execution_count": 9,
     "metadata": {},
     "output_type": "execute_result"
    }
   ],
   "source": [
    "#scaling the values in the range of 0-1 for best preformances\n",
    "sc = MinMaxScaler(feature_range=(0,1))\n",
    "trainData = sc.fit_transform(trainData)\n",
    "trainData.shape"
   ]
  },
  {
   "cell_type": "markdown",
   "metadata": {},
   "source": [
    "# preparing the data for LSTM"
   ]
  },
  {
   "cell_type": "markdown",
   "metadata": {},
   "source": [
    "#since its a time series problem we took 60 as timestep for our learning : given 60 closing values as an input data the 61st value is our output"
   ]
  },
  {
   "cell_type": "code",
   "execution_count": 10,
   "metadata": {},
   "outputs": [],
   "source": [
    "X_train = []\n",
    "y_train = []\n",
    "\n",
    "for i in range (60,1149): #60 : timestep // 1149 : length of the data\n",
    "    X_train.append(trainData[i-60:i,0]) \n",
    "    y_train.append(trainData[i,0])\n",
    "\n",
    "X_train,y_train = np.array(X_train),np.array(y_train)"
   ]
  },
  {
   "cell_type": "code",
   "execution_count": 11,
   "metadata": {},
   "outputs": [
    {
     "data": {
      "text/plain": [
       "(array([[0.40001392, 0.40665027, 0.38520976, ..., 0.36279469, 0.35745777,\n",
       "         0.37766846],\n",
       "        [0.40665027, 0.38520976, 0.36439577, ..., 0.35745777, 0.37766846,\n",
       "         0.36065992],\n",
       "        [0.38520976, 0.36439577, 0.30063115, ..., 0.37766846, 0.36065992,\n",
       "         0.34406906],\n",
       "        ...,\n",
       "        [0.65286802, 0.66184797, 0.66194078, ..., 0.69625951, 0.69312697,\n",
       "         0.69693243],\n",
       "        [0.66184797, 0.66194078, 0.66284574, ..., 0.69312697, 0.69693243,\n",
       "         0.68184982],\n",
       "        [0.66194078, 0.66284574, 0.65871543, ..., 0.69693243, 0.68184982,\n",
       "         0.67660572]]),\n",
       " array([0.36065992, 0.34406906, 0.35722573, ..., 0.68184982, 0.67660572,\n",
       "        0.65115092]))"
      ]
     },
     "execution_count": 11,
     "metadata": {},
     "output_type": "execute_result"
    }
   ],
   "source": [
    "X_train,y_train"
   ]
  },
  {
   "cell_type": "markdown",
   "metadata": {},
   "source": [
    "ps : LSTM take a 3D tensor (seq_len,timestep,batch_size)"
   ]
  },
  {
   "cell_type": "code",
   "execution_count": 12,
   "metadata": {},
   "outputs": [
    {
     "data": {
      "text/plain": [
       "(1089, 60, 1)"
      ]
     },
     "execution_count": 12,
     "metadata": {},
     "output_type": "execute_result"
    }
   ],
   "source": [
    "#adding the batch_size axis\n",
    "X_train = np.reshape(X_train,(X_train.shape[0],X_train.shape[1],1))\n",
    "X_train.shape"
   ]
  },
  {
   "cell_type": "markdown",
   "metadata": {},
   "source": [
    "# building the model"
   ]
  },
  {
   "cell_type": "code",
   "execution_count": 13,
   "metadata": {},
   "outputs": [],
   "source": [
    "model = Sequential()\n",
    "\n",
    "model.add(LSTM(units=100, return_sequences = True, input_shape =(X_train.shape[1],1)))\n",
    "model.add(Dropout(0.2))\n",
    "\n",
    "model.add(LSTM(units=100, return_sequences = True))\n",
    "model.add(Dropout(0.2))\n",
    "\n",
    "model.add(LSTM(units=100, return_sequences = True))\n",
    "model.add(Dropout(0.2))\n",
    "\n",
    "model.add(LSTM(units=100, return_sequences = False))\n",
    "model.add(Dropout(0.2))\n",
    "\n",
    "model.add(Dense(units =1))\n",
    "model.compile(optimizer='adam',loss=\"mean_squared_error\")"
   ]
  },
  {
   "cell_type": "code",
   "execution_count": 14,
   "metadata": {},
   "outputs": [
    {
     "name": "stdout",
     "output_type": "stream",
     "text": [
      "Epoch 1/20\n",
      "35/35 [==============================] - 11s 161ms/step - loss: 0.0586\n",
      "Epoch 2/20\n",
      "35/35 [==============================] - 9s 252ms/step - loss: 0.0158\n",
      "Epoch 3/20\n",
      "35/35 [==============================] - 10s 292ms/step - loss: 0.0135\n",
      "Epoch 4/20\n",
      "35/35 [==============================] - 10s 293ms/step - loss: 0.0095\n",
      "Epoch 5/20\n",
      "35/35 [==============================] - 10s 275ms/step - loss: 0.0070\n",
      "Epoch 6/20\n",
      "35/35 [==============================] - 9s 261ms/step - loss: 0.0070\n",
      "Epoch 7/20\n",
      "35/35 [==============================] - 10s 280ms/step - loss: 0.0079\n",
      "Epoch 8/20\n",
      "35/35 [==============================] - 9s 259ms/step - loss: 0.0061\n",
      "Epoch 9/20\n",
      "35/35 [==============================] - 10s 285ms/step - loss: 0.0133\n",
      "Epoch 10/20\n",
      "35/35 [==============================] - 10s 280ms/step - loss: 0.0084\n",
      "Epoch 11/20\n",
      "35/35 [==============================] - 9s 259ms/step - loss: 0.0054\n",
      "Epoch 12/20\n",
      "35/35 [==============================] - 9s 242ms/step - loss: 0.0053\n",
      "Epoch 13/20\n",
      "35/35 [==============================] - 9s 256ms/step - loss: 0.0064\n",
      "Epoch 14/20\n",
      "35/35 [==============================] - 11s 323ms/step - loss: 0.0047\n",
      "Epoch 15/20\n",
      "35/35 [==============================] - 10s 283ms/step - loss: 0.0078\n",
      "Epoch 16/20\n",
      "35/35 [==============================] - 10s 286ms/step - loss: 0.0059\n",
      "Epoch 17/20\n",
      "35/35 [==============================] - 9s 264ms/step - loss: 0.0041\n",
      "Epoch 18/20\n",
      "35/35 [==============================] - 9s 270ms/step - loss: 0.0074\n",
      "Epoch 19/20\n",
      "35/35 [==============================] - 12s 340ms/step - loss: 0.0049\n",
      "Epoch 20/20\n",
      "35/35 [==============================] - 9s 265ms/step - loss: 0.0048\n"
     ]
    }
   ],
   "source": [
    "hist = model.fit(X_train, y_train, epochs = 20, batch_size = 32, verbose=1)"
   ]
  },
  {
   "cell_type": "markdown",
   "metadata": {},
   "source": [
    "ploting the training loss"
   ]
  },
  {
   "cell_type": "code",
   "execution_count": 15,
   "metadata": {},
   "outputs": [
    {
     "data": {
      "image/png": "[encoded data removed]",
      "text/plain": [
       "<Figure size 432x288 with 1 Axes>"
      ]
     },
     "metadata": {
      "needs_background": "light"
     },
     "output_type": "display_data"
    }
   ],
   "source": [
    "plt.plot(hist.history['loss'])\n",
    "plt.title('model loss')\n",
    "plt.ylabel('loss')\n",
    "plt.xlabel('epoch')\n",
    "plt.legend(['train'], loc='upper left')\n",
    "plt.show()"
   ]
  },
  {
   "cell_type": "markdown",
   "metadata": {},
   "source": [
    "\n",
    "Predicting for test data\n",
    "\n",
    "As we have 60 input in our layer, we will concatenate our train and test and will take last 60 values of our training set with test set\n"
   ]
  },
  {
   "cell_type": "code",
   "execution_count": 16,
   "metadata": {},
   "outputs": [
    {
     "data": {
      "text/plain": [
       "(192, 60, 1)"
      ]
     },
     "execution_count": 16,
     "metadata": {},
     "output_type": "execute_result"
    }
   ],
   "source": [
    "testData = pd.read_csv('GOOG.csv') #importing the test data\n",
    "testData[\"Close\"]=pd.to_numeric(testData.Close,errors='coerce') #turning the close column to numerical type\n",
    "testData = testData.dropna() #droping the NA values\n",
    "testData = testData.iloc[:,4:5] #selecting the closing prices for testing\n",
    "y_test = testData.iloc[60:,0:].values #selecting the labels \n",
    "#input array for the model\n",
    "inputClosing = testData.iloc[:,0:].values \n",
    "inputClosing_scaled = sc.transform(inputClosing)\n",
    "inputClosing_scaled.shape\n",
    "X_test = []\n",
    "length = len(testData)\n",
    "timestep = 60\n",
    "for i in range(timestep,length): #doing the same preivous preprocessing \n",
    "    X_test.append(inputClosing_scaled[i-timestep:i,0])\n",
    "X_test = np.array(X_test)\n",
    "X_test = np.reshape(X_test,(X_test.shape[0],X_test.shape[1],1))\n",
    "X_test.shape"
   ]
  },
  {
   "cell_type": "code",
   "execution_count": 17,
   "metadata": {},
   "outputs": [],
   "source": [
    "y_pred = model.predict(X_test) #predicting the new values"
   ]
  },
  {
   "cell_type": "code",
   "execution_count": 18,
   "metadata": {},
   "outputs": [
    {
     "data": {
      "text/plain": [
       "array([[1.1924342],\n",
       "       [1.1938256],\n",
       "       [1.2027601],\n",
       "       [1.2170191],\n",
       "       [1.2294517],\n",
       "       [1.2313414],\n",
       "       [1.2222177],\n",
       "       [1.2078481],\n",
       "       [1.1973994],\n",
       "       [1.1933078],\n",
       "       [1.1866971],\n",
       "       [1.1766056],\n",
       "       [1.1671379],\n",
       "       [1.15811  ],\n",
       "       [1.1548463],\n",
       "       [1.15722  ],\n",
       "       [1.1711891],\n",
       "       [1.1947157],\n",
       "       [1.2229341],\n",
       "       [1.2521317],\n",
       "       [1.2668357],\n",
       "       [1.2680659],\n",
       "       [1.2541538],\n",
       "       [1.231117 ],\n",
       "       [1.2083439],\n",
       "       [1.1934218],\n",
       "       [1.1875981],\n",
       "       [1.1851121],\n",
       "       [1.1780844],\n",
       "       [1.1681701],\n",
       "       [1.1570696],\n",
       "       [1.1444137],\n",
       "       [1.1261579],\n",
       "       [1.1035757],\n",
       "       [1.0922966],\n",
       "       [1.0972351],\n",
       "       [1.1136721],\n",
       "       [1.1343446],\n",
       "       [1.1552892],\n",
       "       [1.1676079],\n",
       "       [1.1798671],\n",
       "       [1.1940354],\n",
       "       [1.2102274],\n",
       "       [1.2257208],\n",
       "       [1.2371615],\n",
       "       [1.2407641],\n",
       "       [1.2347096],\n",
       "       [1.2281808],\n",
       "       [1.225984 ],\n",
       "       [1.2302628],\n",
       "       [1.2407879],\n",
       "       [1.2488943],\n",
       "       [1.2523144],\n",
       "       [1.2511711],\n",
       "       [1.2505088],\n",
       "       [1.2479316],\n",
       "       [1.2414306],\n",
       "       [1.2376877],\n",
       "       [1.244073 ],\n",
       "       [1.2583438],\n",
       "       [1.2799944],\n",
       "       [1.3069433],\n",
       "       [1.3277565],\n",
       "       [1.3348358],\n",
       "       [1.3286085],\n",
       "       [1.3141738],\n",
       "       [1.3025651],\n",
       "       [1.2974297],\n",
       "       [1.2985529],\n",
       "       [1.301955 ],\n",
       "       [1.3061359],\n",
       "       [1.3090267],\n",
       "       [1.3067133],\n",
       "       [1.3025105],\n",
       "       [1.2984836],\n",
       "       [1.2968594],\n",
       "       [1.2979603],\n",
       "       [1.3016675],\n",
       "       [1.31099  ],\n",
       "       [1.3256421],\n",
       "       [1.3451589],\n",
       "       [1.3648492],\n",
       "       [1.3778888],\n",
       "       [1.3825243],\n",
       "       [1.3873422],\n",
       "       [1.398163 ],\n",
       "       [1.4135672],\n",
       "       [1.4279435],\n",
       "       [1.437775 ],\n",
       "       [1.4422169],\n",
       "       [1.4453183],\n",
       "       [1.4536784],\n",
       "       [1.4681268],\n",
       "       [1.4794248],\n",
       "       [1.4815809],\n",
       "       [1.4737226],\n",
       "       [1.4573497],\n",
       "       [1.4365956],\n",
       "       [1.4174535],\n",
       "       [1.4078118],\n",
       "       [1.4094045],\n",
       "       [1.4200798],\n",
       "       [1.4369214],\n",
       "       [1.4534919],\n",
       "       [1.4653883],\n",
       "       [1.4701593],\n",
       "       [1.470019 ],\n",
       "       [1.467824 ],\n",
       "       [1.4681435],\n",
       "       [1.4720705],\n",
       "       [1.4794421],\n",
       "       [1.4900656],\n",
       "       [1.5014832],\n",
       "       [1.5139829],\n",
       "       [1.5291597],\n",
       "       [1.5428264],\n",
       "       [1.5541259],\n",
       "       [1.5640353],\n",
       "       [1.5753723],\n",
       "       [1.5650276],\n",
       "       [1.5305568],\n",
       "       [1.4822203],\n",
       "       [1.4381057],\n",
       "       [1.4080362],\n",
       "       [1.390608 ],\n",
       "       [1.3816093],\n",
       "       [1.3773727],\n",
       "       [1.3764517],\n",
       "       [1.3711015],\n",
       "       [1.3587917],\n",
       "       [1.3516737],\n",
       "       [1.3562206],\n",
       "       [1.3669943],\n",
       "       [1.3740593],\n",
       "       [1.3768779],\n",
       "       [1.3769419],\n",
       "       [1.3735473],\n",
       "       [1.3664205],\n",
       "       [1.3575399],\n",
       "       [1.3454047],\n",
       "       [1.332124 ],\n",
       "       [1.317252 ],\n",
       "       [1.2890854],\n",
       "       [1.2542114],\n",
       "       [1.2185589],\n",
       "       [1.1885194],\n",
       "       [1.1718426],\n",
       "       [1.1718524],\n",
       "       [1.1845686],\n",
       "       [1.2031975],\n",
       "       [1.2241236],\n",
       "       [1.2429434],\n",
       "       [1.2584668],\n",
       "       [1.2720661],\n",
       "       [1.2832155],\n",
       "       [1.2930316],\n",
       "       [1.3032581],\n",
       "       [1.3118656],\n",
       "       [1.3116691],\n",
       "       [1.3015219],\n",
       "       [1.2844238],\n",
       "       [1.2662544],\n",
       "       [1.2544961],\n",
       "       [1.2535074],\n",
       "       [1.2635496],\n",
       "       [1.2821989],\n",
       "       [1.3009329],\n",
       "       [1.3165672],\n",
       "       [1.3307183],\n",
       "       [1.3438067],\n",
       "       [1.3550032],\n",
       "       [1.3644122],\n",
       "       [1.372163 ],\n",
       "       [1.376357 ],\n",
       "       [1.3769017],\n",
       "       [1.3714026],\n",
       "       [1.3631558],\n",
       "       [1.3566189],\n",
       "       [1.3516073],\n",
       "       [1.3468266],\n",
       "       [1.3666445],\n",
       "       [1.4071054],\n",
       "       [1.4522661],\n",
       "       [1.4880977],\n",
       "       [1.5076544],\n",
       "       [1.5089793],\n",
       "       [1.4884837],\n",
       "       [1.4583253],\n",
       "       [1.4293154],\n",
       "       [1.4139332],\n",
       "       [1.4095848],\n",
       "       [1.409352 ]], dtype=float32)"
      ]
     },
     "execution_count": 18,
     "metadata": {},
     "output_type": "execute_result"
    }
   ],
   "source": [
    "y_pred"
   ]
  },
  {
   "cell_type": "code",
   "execution_count": 19,
   "metadata": {},
   "outputs": [],
   "source": [
    "predicted_price = sc.inverse_transform(y_pred) #inversing the scaling transformation for ploting"
   ]
  },
  {
   "cell_type": "code",
   "execution_count": 20,
   "metadata": {},
   "outputs": [
    {
     "data": {
      "text/plain": [
       "array([[1005.09143],\n",
       "       [1005.69104],\n",
       "       [1009.54144],\n",
       "       [1015.6866 ],\n",
       "       [1021.0445 ],\n",
       "       [1021.8589 ],\n",
       "       [1017.9269 ],\n",
       "       [1011.73425],\n",
       "       [1007.23126],\n",
       "       [1005.4679 ],\n",
       "       [1002.61896],\n",
       "       [ 998.2699 ],\n",
       "       [ 994.18976],\n",
       "       [ 990.2991 ],\n",
       "       [ 988.8925 ],\n",
       "       [ 989.9155 ],\n",
       "       [ 995.93567],\n",
       "       [1006.0747 ],\n",
       "       [1018.23566],\n",
       "       [1030.8187 ],\n",
       "       [1037.1555 ],\n",
       "       [1037.6857 ],\n",
       "       [1031.6901 ],\n",
       "       [1021.7622 ],\n",
       "       [1011.9478 ],\n",
       "       [1005.5171 ],\n",
       "       [1003.00726],\n",
       "       [1001.9359 ],\n",
       "       [ 998.9073 ],\n",
       "       [ 994.6345 ],\n",
       "       [ 989.85065],\n",
       "       [ 984.39655],\n",
       "       [ 976.529  ],\n",
       "       [ 966.797  ],\n",
       "       [ 961.93616],\n",
       "       [ 964.0644 ],\n",
       "       [ 971.14813],\n",
       "       [ 980.0571 ],\n",
       "       [ 989.08344],\n",
       "       [ 994.3923 ],\n",
       "       [ 999.67554],\n",
       "       [1005.7815 ],\n",
       "       [1012.7596 ],\n",
       "       [1019.4366 ],\n",
       "       [1024.3671 ],\n",
       "       [1025.9197 ],\n",
       "       [1023.3104 ],\n",
       "       [1020.49677],\n",
       "       [1019.55005],\n",
       "       [1021.39404],\n",
       "       [1025.9299 ],\n",
       "       [1029.4235 ],\n",
       "       [1030.8975 ],\n",
       "       [1030.4047 ],\n",
       "       [1030.1193 ],\n",
       "       [1029.0085 ],\n",
       "       [1026.2069 ],\n",
       "       [1024.5939 ],\n",
       "       [1027.3457 ],\n",
       "       [1033.4958 ],\n",
       "       [1042.8263 ],\n",
       "       [1054.4403 ],\n",
       "       [1063.4099 ],\n",
       "       [1066.4608 ],\n",
       "       [1063.7771 ],\n",
       "       [1057.5563 ],\n",
       "       [1052.5535 ],\n",
       "       [1050.3402 ],\n",
       "       [1050.8243 ],\n",
       "       [1052.2905 ],\n",
       "       [1054.0923 ],\n",
       "       [1055.3381 ],\n",
       "       [1054.3412 ],\n",
       "       [1052.5299 ],\n",
       "       [1050.7946 ],\n",
       "       [1050.0945 ],\n",
       "       [1050.569  ],\n",
       "       [1052.1666 ],\n",
       "       [1056.1842 ],\n",
       "       [1062.4988 ],\n",
       "       [1070.9097 ],\n",
       "       [1079.3954 ],\n",
       "       [1085.0149 ],\n",
       "       [1087.0127 ],\n",
       "       [1089.089  ],\n",
       "       [1093.7523 ],\n",
       "       [1100.3909 ],\n",
       "       [1106.5865 ],\n",
       "       [1110.8235 ],\n",
       "       [1112.7378 ],\n",
       "       [1114.0743 ],\n",
       "       [1117.6772 ],\n",
       "       [1123.9039 ],\n",
       "       [1128.773  ],\n",
       "       [1129.702  ],\n",
       "       [1126.3154 ],\n",
       "       [1119.2594 ],\n",
       "       [1110.3152 ],\n",
       "       [1102.0658 ],\n",
       "       [1097.9105 ],\n",
       "       [1098.597  ],\n",
       "       [1103.1975 ],\n",
       "       [1110.4557 ],\n",
       "       [1117.5969 ],\n",
       "       [1122.7238 ],\n",
       "       [1124.7799 ],\n",
       "       [1124.7194 ],\n",
       "       [1123.7734 ],\n",
       "       [1123.9111 ],\n",
       "       [1125.6035 ],\n",
       "       [1128.7804 ],\n",
       "       [1133.3586 ],\n",
       "       [1138.2792 ],\n",
       "       [1143.666  ],\n",
       "       [1150.2067 ],\n",
       "       [1156.0964 ],\n",
       "       [1160.9661 ],\n",
       "       [1165.2366 ],\n",
       "       [1170.1224 ],\n",
       "       [1165.6643 ],\n",
       "       [1150.8087 ],\n",
       "       [1129.9777 ],\n",
       "       [1110.966  ],\n",
       "       [1098.0073 ],\n",
       "       [1090.4963 ],\n",
       "       [1086.6183 ],\n",
       "       [1084.7926 ],\n",
       "       [1084.3956 ],\n",
       "       [1082.0898 ],\n",
       "       [1076.7848 ],\n",
       "       [1073.7173 ],\n",
       "       [1075.6768 ],\n",
       "       [1080.3198 ],\n",
       "       [1083.3646 ],\n",
       "       [1084.5792 ],\n",
       "       [1084.6069 ],\n",
       "       [1083.1439 ],\n",
       "       [1080.0726 ],\n",
       "       [1076.2454 ],\n",
       "       [1071.0156 ],\n",
       "       [1065.2922 ],\n",
       "       [1058.8829 ],\n",
       "       [1046.7443 ],\n",
       "       [1031.715  ],\n",
       "       [1016.3501 ],\n",
       "       [1003.4043 ],\n",
       "       [ 996.2173 ],\n",
       "       [ 996.2215 ],\n",
       "       [1001.7017 ],\n",
       "       [1009.73   ],\n",
       "       [1018.7483 ],\n",
       "       [1026.8589 ],\n",
       "       [1033.5488 ],\n",
       "       [1039.4097 ],\n",
       "       [1044.2146 ],\n",
       "       [1048.4448 ],\n",
       "       [1052.852  ],\n",
       "       [1056.5616 ],\n",
       "       [1056.4769 ],\n",
       "       [1052.1039 ],\n",
       "       [1044.7354 ],\n",
       "       [1036.905  ],\n",
       "       [1031.8376 ],\n",
       "       [1031.4115 ],\n",
       "       [1035.7394 ],\n",
       "       [1043.7765 ],\n",
       "       [1051.8501 ],\n",
       "       [1058.5878 ],\n",
       "       [1064.6864 ],\n",
       "       [1070.327  ],\n",
       "       [1075.1522 ],\n",
       "       [1079.207  ],\n",
       "       [1082.5474 ],\n",
       "       [1084.3547 ],\n",
       "       [1084.5896 ],\n",
       "       [1082.2196 ],\n",
       "       [1078.6656 ],\n",
       "       [1075.8485 ],\n",
       "       [1073.6887 ],\n",
       "       [1071.6284 ],\n",
       "       [1080.1691 ],\n",
       "       [1097.6062 ],\n",
       "       [1117.0686 ],\n",
       "       [1132.5106 ],\n",
       "       [1140.9387 ],\n",
       "       [1141.5098 ],\n",
       "       [1132.6769 ],\n",
       "       [1119.6798 ],\n",
       "       [1107.1777 ],\n",
       "       [1100.5486 ],\n",
       "       [1098.6747 ],\n",
       "       [1098.5743 ]], dtype=float32)"
      ]
     },
     "execution_count": 20,
     "metadata": {},
     "output_type": "execute_result"
    }
   ],
   "source": [
    "predicted_price"
   ]
  },
  {
   "cell_type": "markdown",
   "metadata": {},
   "source": [
    "ploting the results"
   ]
  },
  {
   "cell_type": "code",
   "execution_count": 21,
   "metadata": {},
   "outputs": [
    {
     "data": {
      "image/png": "[encoded data removed]",
      "text/plain": [
       "<Figure size 432x288 with 1 Axes>"
      ]
     },
     "metadata": {
      "needs_background": "light"
     },
     "output_type": "display_data"
    }
   ],
   "source": [
    "plt.plot(y_test, color = 'blue', label = 'Actual Stock Price')\n",
    "plt.plot(predicted_price, color = 'red', label = 'Predicted Stock Price')\n",
    "plt.title('GOOG stock price prediction')\n",
    "plt.xlabel('Time')\n",
    "plt.ylabel('Stock Price')\n",
    "plt.legend()\n",
    "plt.show()\n",
    "\n"
   ]
  },
  {
   "cell_type": "code",
   "execution_count": null,
   "metadata": {},
   "outputs": [],
   "source": []
  }
 ],
 "metadata": {
  "kernelspec": {
   "display_name": "Python 3",
   "language": "python",
   "name": "python3"
  },
  "language_info": {
   "codemirror_mode": {
    "name": "ipython",
    "version": 3
   },
   "file_extension": ".py",
   "mimetype": "text/x-python",
   "name": "python",
   "nbconvert_exporter": "python",
   "pygments_lexer": "ipython3",
   "version": "3.8.5"
  }
 },
 "nbformat": 4,
 "nbformat_minor": 4
}
